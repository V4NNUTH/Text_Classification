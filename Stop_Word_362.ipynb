{
 "cells": [
  {
   "cell_type": "markdown",
   "id": "13e65086",
   "metadata": {},
   "source": [
    "### Individual Stop Words"
   ]
  },
  {
   "cell_type": "code",
   "execution_count": 9,
   "id": "cce60078",
   "metadata": {},
   "outputs": [
    {
     "name": "stdout",
     "output_type": "stream",
     "text": [
      "(5, 23)\n",
      "{'horse': 5, 'kingdom': 9, 'sense': 17, 'thing': 19, 'keeps': 8, 'betting': 1, 'people': 14, 've': 20, 'often': 12, 'said': 16, 'nothing': 11, 'better': 0, 'inside': 6, 'man': 10, 'outside': 13, 'spiritually': 18, 'well': 22, 'physically': 15, 'bigger': 2, 'foot': 3, 'heaven': 4, 'isn': 7, 'welcome': 21}\n"
     ]
    }
   ],
   "source": [
    "from sklearn.feature_extraction.text import CountVectorizer\n",
    "\n",
    "corpus = [\n",
    "    \"A horse, a horse, my kingdom for a horse!\",\n",
    "    \"Horse sense is the thing a horse has which keeps it from betting on people.\",\n",
    "    \"I've often said there is nothing better for the inside of the man, than the outside of the horse.\",\n",
    "    \"A man on a horse is spiritually, as well as physically, bigger then a man on foot.\",\n",
    "    \"No heaven can heaven be, if my horse isn't there to welcome me.\"\n",
    "]\n",
    "\n",
    "cv = CountVectorizer(stop_words=['my', \"for\",\"the\",\"has\",\"than\",\n",
    "                                 \"from\",\"on\",\"of\",\"it\",\"there\",\n",
    "                                 \"as\",\"no\",\"be\",\"which\",\"is\",\"me\",\n",
    "                                 \"is\",\"can\",\"then\",\"to\",\"if\"])\n",
    "\n",
    "count_vector = cv.fit_transform(corpus)\n",
    "\n",
    "print(count_vector.shape)\n",
    "print(cv.vocabulary_)\n"
   ]
  },
  {
   "cell_type": "code",
   "execution_count": 10,
   "id": "fce0e4f3",
   "metadata": {},
   "outputs": [
    {
     "name": "stdout",
     "output_type": "stream",
     "text": [
      "25arbitrary words from ENGLISH_STOP_WORDS:\n",
      "system, to, full, made, both, whenever, own, without, thereupon, over, first, become, in, out, ourselves, former, an, anyone, no, therefore, four, whatever, would, above, whether\n"
     ]
    }
   ],
   "source": [
    "from sklearn.feature_extraction import text\n",
    "n =25\n",
    "print(str(n) + \"arbitrary words from ENGLISH_STOP_WORDS:\")\n",
    "counter = 0\n",
    "for word in text.ENGLISH_STOP_WORDS:\n",
    "    if counter == n -1:\n",
    "        print(word)\n",
    "        break\n",
    "    print(word, end=\", \")\n",
    "    counter +=1"
   ]
  },
  {
   "cell_type": "code",
   "execution_count": 13,
   "id": "ce01900d",
   "metadata": {},
   "outputs": [
    {
     "name": "stdout",
     "output_type": "stream",
     "text": [
      "accuracy score:  0.6526818906001062\n",
      "F1-score:  0.6268816896587931\n"
     ]
    }
   ],
   "source": [
    "from sklearn.datasets import fetch_20newsgroups\n",
    "from sklearn.feature_extraction.text import CountVectorizer\n",
    "from sklearn.naive_bayes import MultinomialNB\n",
    "from sklearn import metrics\n",
    "\n",
    "# Load the training and test sets\n",
    "newsgroups_train = fetch_20newsgroups(subset='train', remove=('headers', 'footers', 'quotes'))\n",
    "newsgroups_test = fetch_20newsgroups(subset='test', remove=('headers', 'footers', 'quotes'))\n",
    "\n",
    "# Initialize the CountVectorizer with the 'english' stop words\n",
    "vectorizer = CountVectorizer(stop_words='english')\n",
    "vectors = vectorizer.fit_transform(newsgroups_train.data)\n",
    "\n",
    "# Create and train the classifier\n",
    "classifier = MultinomialNB(alpha=.01)\n",
    "classifier.fit(vectors, newsgroups_train.target)\n",
    "\n",
    "# Transform the test data and predict\n",
    "vectors_test = vectorizer.transform(newsgroups_test.data)\n",
    "predictions = classifier.predict(vectors_test)\n",
    "\n",
    "# Calculate and print the accuracy and F1 score\n",
    "accuracy_score = metrics.accuracy_score(newsgroups_test.target, predictions)\n",
    "f1_score = metrics.f1_score(newsgroups_test.target, predictions, average='macro')\n",
    "print(\"accuracy score: \", accuracy_score)\n",
    "print(\"F1-score: \", f1_score)\n"
   ]
  },
  {
   "cell_type": "code",
   "execution_count": null,
   "id": "a2550c23",
   "metadata": {},
   "outputs": [],
   "source": []
  }
 ],
 "metadata": {
  "kernelspec": {
   "display_name": "Python 3 (ipykernel)",
   "language": "python",
   "name": "python3"
  },
  "language_info": {
   "codemirror_mode": {
    "name": "ipython",
    "version": 3
   },
   "file_extension": ".py",
   "mimetype": "text/x-python",
   "name": "python",
   "nbconvert_exporter": "python",
   "pygments_lexer": "ipython3",
   "version": "3.11.2"
  }
 },
 "nbformat": 4,
 "nbformat_minor": 5
}
