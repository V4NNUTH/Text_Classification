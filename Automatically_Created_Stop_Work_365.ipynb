{
 "cells": [
  {
   "cell_type": "code",
   "execution_count": 5,
   "id": "ee83e758",
   "metadata": {},
   "outputs": [
    {
     "name": "stdout",
     "output_type": "stream",
     "text": [
      "{'people': 7, 'you': 9, 'cannot': 0, 'is': 3, 'horse': 2, 'my': 5, 'for': 1, 'on': 6, 'there': 8, 'man': 4}\n"
     ]
    }
   ],
   "source": [
    "from sklearn.feature_extraction.text import CountVectorizer\n",
    "\n",
    "corpus = [\n",
    "    \"\"\"People say you cannot live without love,\n",
    "    but I think oxygen is more important\"\"\",\n",
    "    \"Sometimes, when you close your eyes, you cannot see.\"\n",
    "    \"A horse, a horse, my kingdom for a horse!\",\n",
    "    \"\"\"Horse sense is the thing a horse has which\n",
    "    keeps it from betting on people.\"\"\"\n",
    "    \"\"\"I’ve often said there is nothing better for\n",
    "    the inside of the man, than the outside of the horse.\"\"\",\n",
    "    \"\"\"A man on a horse is spiritually, as well as physically,\n",
    "    bigger then a man on foot.\"\"\",\n",
    "    \"\"\"No heaven can heaven be, if my horse isn’t there\n",
    "    to welcome me.\"\"\"\n",
    "]\n",
    "\n",
    "cv = CountVectorizer(min_df=2)\n",
    "count_vector = cv.fit_transform(corpus)\n",
    "print(cv.vocabulary_)\n"
   ]
  },
  {
   "cell_type": "code",
   "execution_count": 6,
   "id": "bd020434",
   "metadata": {},
   "outputs": [
    {
     "data": {
      "text/plain": [
       "{'as',\n",
       " 'be',\n",
       " 'better',\n",
       " 'betting',\n",
       " 'bigger',\n",
       " 'but',\n",
       " 'can',\n",
       " 'close',\n",
       " 'eyes',\n",
       " 'foot',\n",
       " 'from',\n",
       " 'has',\n",
       " 'heaven',\n",
       " 'if',\n",
       " 'important',\n",
       " 'inside',\n",
       " 'isn',\n",
       " 'it',\n",
       " 'keeps',\n",
       " 'kingdom',\n",
       " 'live',\n",
       " 'love',\n",
       " 'me',\n",
       " 'more',\n",
       " 'no',\n",
       " 'nothing',\n",
       " 'of',\n",
       " 'often',\n",
       " 'outside',\n",
       " 'oxygen',\n",
       " 'physically',\n",
       " 'said',\n",
       " 'say',\n",
       " 'see',\n",
       " 'sense',\n",
       " 'sometimes',\n",
       " 'spiritually',\n",
       " 'than',\n",
       " 'the',\n",
       " 'then',\n",
       " 'thing',\n",
       " 'think',\n",
       " 'to',\n",
       " 've',\n",
       " 'welcome',\n",
       " 'well',\n",
       " 'when',\n",
       " 'which',\n",
       " 'without',\n",
       " 'your'}"
      ]
     },
     "execution_count": 6,
     "metadata": {},
     "output_type": "execute_result"
    }
   ],
   "source": [
    "cv.stop_words_"
   ]
  },
  {
   "cell_type": "code",
   "execution_count": 10,
   "id": "92a502c5",
   "metadata": {},
   "outputs": [
    {
     "name": "stdout",
     "output_type": "stream",
     "text": [
      "min_df    Number of Documents    Size of Vocabulary    Size of Stop Words List\n",
      "1          5                    60                   0                        \n",
      "2          5                    10                   50                       \n",
      "3          5                    2                    58                       \n",
      "4          5                    1                    59                       \n",
      "5          5                    Vocabulary Empty     All terms pruned         \n"
     ]
    }
   ],
   "source": [
    "print(\"min_df    Number of Documents    Size of Vocabulary    Size of Stop Words List\")\n",
    "for i in range(1, len(corpus) + 1):\n",
    "    cv = CountVectorizer(min_df=i)\n",
    "    try:\n",
    "        count_vector = cv.fit_transform(corpus)\n",
    "        len_voc = len(cv.vocabulary_)\n",
    "        len_stop_words = len(cv.stop_words_)\n",
    "        print(f\"{i:<10} {len(corpus):<20} {len_voc:<20} {len_stop_words:<25}\")\n",
    "    except ValueError as e:\n",
    "        print(f\"{i:<10} {len(corpus):<20} {'Vocabulary Empty':<20} {'All terms pruned':<25}\")\n",
    "        break  # Optional: break if you want to stop at the first empty vocabulary occurrence\n"
   ]
  },
  {
   "cell_type": "code",
   "execution_count": 12,
   "id": "bac0482d",
   "metadata": {},
   "outputs": [
    {
     "data": {
      "text/plain": [
       "{'cannot', 'for', 'horse', 'is', 'man', 'my', 'on', 'people', 'there', 'you'}"
      ]
     },
     "execution_count": 12,
     "metadata": {},
     "output_type": "execute_result"
    }
   ],
   "source": [
    "cv = CountVectorizer(max_df=0.20)\n",
    "count_vector = cv.fit_transform(corpus)\n",
    "cv.stop_words_"
   ]
  },
  {
   "cell_type": "code",
   "execution_count": null,
   "id": "3640a1c0",
   "metadata": {},
   "outputs": [],
   "source": []
  }
 ],
 "metadata": {
  "kernelspec": {
   "display_name": "Python 3 (ipykernel)",
   "language": "python",
   "name": "python3"
  },
  "language_info": {
   "codemirror_mode": {
    "name": "ipython",
    "version": 3
   },
   "file_extension": ".py",
   "mimetype": "text/x-python",
   "name": "python",
   "nbconvert_exporter": "python",
   "pygments_lexer": "ipython3",
   "version": "3.11.2"
  }
 },
 "nbformat": 4,
 "nbformat_minor": 5
}
